{
  "nbformat": 4,
  "nbformat_minor": 0,
  "metadata": {
    "colab": {
      "provenance": [],
      "collapsed_sections": []
    },
    "kernelspec": {
      "name": "python3",
      "display_name": "Python 3"
    },
    "language_info": {
      "name": "python"
    }
  },
  "cells": [
    {
      "cell_type": "code",
      "execution_count": null,
      "metadata": {
        "id": "EFNIWT7_vn2F"
      },
      "outputs": [],
      "source": [
        "import glob\n",
        "import pickle\n",
        "import numpy\n",
        "from music21 import converter, instrument, note, chord\n",
        "from keras.models import Sequential\n",
        "from keras.layers import Dense\n",
        "from keras.layers import Dropout\n",
        "from keras.layers import LSTM\n",
        "from keras.layers import Activation\n",
        "from keras.layers import BatchNormalization as BatchNorm\n",
        "from keras.utils import np_utils\n",
        "from keras.callbacks import ModelCheckpoint"
      ]
    },
    {
      "cell_type": "code",
      "source": [
        "from pathlib import Path\n",
        "import numpy\n",
        "#import np_utils\n",
        "\n",
        "# Reads the files and folders within the MIDI folder\n",
        "# and stores the names in the list\n",
        "songs = []\n",
        "folder = Path('/content/drive/MyDrive/MIDI/MIDI/')\n",
        "for file in folder.rglob('*.mid'):\n",
        "  songs.append(file)"
      ],
      "metadata": {
        "id": "ff2n1gMyvuCJ"
      },
      "execution_count": null,
      "outputs": []
    },
    {
      "cell_type": "code",
      "source": [
        "print(f'Number of songs in the dataset: {len(songs)}')"
      ],
      "metadata": {
        "colab": {
          "base_uri": "https://localhost:8080/"
        },
        "id": "VeIdfKUBwM8q",
        "outputId": "aa02981e-6e32-4e8d-da51-706d276efae2"
      },
      "execution_count": null,
      "outputs": [
        {
          "output_type": "execute_result",
          "data": {
            "text/plain": [
              "17230"
            ]
          },
          "metadata": {},
          "execution_count": 4
        }
      ]
    },
    {
      "cell_type": "code",
      "source": [
        "# Get a sample of the vast list of songs\n",
        "\n",
        "import random\n",
        "result =  random.sample([x for x in songs], 5000)"
      ],
      "metadata": {
        "id": "jFVG3Me-v0ur"
      },
      "execution_count": null,
      "outputs": []
    },
    {
      "cell_type": "code",
      "source": [
        "# Convert the files from .mid to a list of all the notes.\n",
        "\n",
        "from music21 import converter, instrument, note, chord\n",
        "notes = []\n",
        "for i,file in enumerate(result):\n",
        "    print(f'{i+1}: {file}')\n",
        "    try:\n",
        "      midi = converter.parse(file)\n",
        "      notes_to_parse = None\n",
        "      parts = instrument.partitionByInstrument(midi)\n",
        "      if parts: # file has instrument parts\n",
        "          notes_to_parse = parts.parts[0].recurse()\n",
        "      else: # file has notes in a flat structure\n",
        "          notes_to_parse = midi.flat.notes\n",
        "      for element in notes_to_parse:\n",
        "          if isinstance(element, note.Note):\n",
        "              notes.append(str(element.pitch))\n",
        "          elif isinstance(element, chord.Chord):\n",
        "              notes.append('.'.join(str(n) for n in element.normalOrder))\n",
        "    except:\n",
        "      print(f'FAILED: {i+1}: {file}')"
      ],
      "metadata": {
        "colab": {
          "base_uri": "https://localhost:8080/"
        },
        "id": "tQqy5z8WwH05",
        "outputId": "739efc0b-462b-43f6-ffb9-e0a75e6016e0"
      },
      "execution_count": null,
      "outputs": [
        {
          "output_type": "stream",
          "name": "stdout",
          "text": [
            "1: /content/drive/MyDrive/MIDI/MIDI/Paoli/Quattro_amici.mid\n",
            "2: /content/drive/MyDrive/MIDI/MIDI/Collins_Phil/I_Dont_Care_Anymore.mid\n",
            "3: /content/drive/MyDrive/MIDI/MIDI/The_Cranberries/Dreams.1.mid\n",
            "4: /content/drive/MyDrive/MIDI/MIDI/Carole_King/So_Far_Away.mid\n",
            "5: /content/drive/MyDrive/MIDI/MIDI/Petula_Clark/Downtown.1.mid\n",
            "6: /content/drive/MyDrive/MIDI/MIDI/a-ha/Take_On_Me.2.mid\n",
            "FAILED: 6: /content/drive/MyDrive/MIDI/MIDI/a-ha/Take_On_Me.2.mid\n",
            "7: /content/drive/MyDrive/MIDI/MIDI/Tom_Jones/Green_Green_Grass_of_Home.2.mid\n",
            "8: /content/drive/MyDrive/MIDI/MIDI/Van_Morrison/Have_I_Told_You_Lately.2.mid\n",
            "9: /content/drive/MyDrive/MIDI/MIDI/Rossi_Vasco/Liberi..._liberi.1.mid\n",
            "FAILED: 9: /content/drive/MyDrive/MIDI/MIDI/Rossi_Vasco/Liberi..._liberi.1.mid\n",
            "10: /content/drive/MyDrive/MIDI/MIDI/REDDING_OTIS/Sitin_on_The_Dock_of_the_Bay.mid\n",
            "FAILED: 10: /content/drive/MyDrive/MIDI/MIDI/REDDING_OTIS/Sitin_on_The_Dock_of_the_Bay.mid\n",
            "11: /content/drive/MyDrive/MIDI/MIDI/Pooh/Ci_pensero_domani.mid\n",
            "FAILED: 11: /content/drive/MyDrive/MIDI/MIDI/Pooh/Ci_pensero_domani.mid\n",
            "12: /content/drive/MyDrive/MIDI/MIDI/Cheryl_Ladd/I_Know_Ill_Never_Love_This_Way_Again.mid\n"
          ]
        }
      ]
    },
    {
      "cell_type": "code",
      "source": [
        "# Save notes to Drive for future usage\n",
        "with open('notes', 'wb') as filepath:\n",
        "  pickle.dump(notes, filepath)"
      ],
      "metadata": {
        "id": "rB9JzQjFx0K_"
      },
      "execution_count": null,
      "outputs": []
    },
    {
      "cell_type": "code",
      "source": [
        "# Load notes from Drive\n",
        "with open('/content/drive/MyDrive/notes', 'rb') as filepath:\n",
        "  notes = pickle.load(filepath)"
      ],
      "metadata": {
        "id": "T-VetDB3yBRe"
      },
      "execution_count": null,
      "outputs": []
    },
    {
      "cell_type": "code",
      "source": [
        "def prepare_sequences(notes, n_vocab):\n",
        "    \"\"\" Prepare the sequences used by the Neural Network \"\"\"\n",
        "    sequence_length = 100\n",
        "\n",
        "    # Get all unique pitchnames\n",
        "    pitchnames = sorted(set(item for item in notes))\n",
        "\n",
        "     # Create a dictionary to map pitches to integers\n",
        "    note_to_int = dict((note, number) for number, note in enumerate(pitchnames))\n",
        "\n",
        "    network_input = []\n",
        "    network_output = []\n",
        "\n",
        "    # create input sequences and the corresponding outputs\n",
        "    for i in range(0, len(notes) - sequence_length, 1):\n",
        "        # sequence_in is a sequence_length list containing sequence_length notes\n",
        "        sequence_in = notes[i:i + sequence_length]\n",
        "        # sequence_out is the sequence_length + 1 note that comes after all the notes in\n",
        "        # sequence_in. This is so the model can read sequence_length notes before predicting\n",
        "        # the next one.\n",
        "        sequence_out = notes[i + sequence_length]\n",
        "        # network_input is the same as sequence_in but it containes the indexes from the notes\n",
        "        # because the model is only fed the indexes.\n",
        "        network_input.append([note_to_int[char] for char in sequence_in])\n",
        "        # network_output containes the index of the sequence_out\n",
        "        network_output.append(note_to_int[sequence_out])\n",
        "\n",
        "    # n_patters is the length of the times it was iterated \n",
        "    # for example if i = 3, then n_patterns = 3\n",
        "    # because network_input is a list of lists\n",
        "    n_patterns = len(network_input)\n",
        "\n",
        "    # reshape the input into a format compatible with LSTM layers\n",
        "    # Reshapes it into a n_patterns by sequence_length matrix\n",
        "    network_input = numpy.reshape(network_input, (n_patterns, sequence_length, 1))\n",
        "    # normalize input\n",
        "    network_input = network_input / float(n_vocab)\n",
        "\n",
        "    # OneHot encodes the network_output\n",
        "    network_output = np_utils.to_categorical(network_output)\n",
        "\n",
        "    return (network_input, network_output)\n",
        "\n",
        "n_vocab = len(set(notes))\n",
        "network_input, network_output = prepare_sequences(notes,n_vocab)"
      ],
      "metadata": {
        "id": "fDSGJTTbxERU"
      },
      "execution_count": null,
      "outputs": []
    },
    {
      "cell_type": "code",
      "source": [
        "def create_network(network_input, n_vocab):\n",
        "    \"\"\" create the structure of the neural network \"\"\"\n",
        "    model = Sequential()\n",
        "    model.add(LSTM(\n",
        "        512,\n",
        "        input_shape=(network_input.shape[1], network_input.shape[2]),\n",
        "        recurrent_dropout=0.3,\n",
        "        return_sequences=True\n",
        "    ))\n",
        "    model.add(LSTM(512, return_sequences=True, recurrent_dropout=0.3,))\n",
        "    model.add(Flatten())\n",
        "    model.add(BatchNorm())\n",
        "    model.add(Dropout(0.3))\n",
        "    #model.add(Dense(2048))\n",
        "    model.add(Dense(1024))\n",
        "    #model.add(Dense(256))\n",
        "    model.add(Activation('relu'))\n",
        "    model.add(BatchNorm())\n",
        "    model.add(Dropout(0.3))\n",
        "    model.add(Dense(n_vocab))\n",
        "    model.add(Activation('softmax'))\n",
        "    model.compile(loss='categorical_crossentropy', optimizer='rmsprop',metrics=['accuracy'])\n",
        "\n",
        "    return model\n",
        "model = create_network(network_input, n_vocab)"
      ],
      "metadata": {
        "id": "QRUaAFXzxiAK"
      },
      "execution_count": null,
      "outputs": []
    },
    {
      "cell_type": "code",
      "source": [
        "import tensorflow as tf\n",
        "\n",
        "tf.keras.utils.plot_model(\n",
        "    model,\n",
        "    to_file='model.png',\n",
        "    show_shapes=False,\n",
        "    show_dtype=False,\n",
        "    show_layer_names=True,\n",
        "    rankdir='TB',\n",
        "    expand_nested=False,\n",
        "    dpi=96,\n",
        "    layer_range=None,\n",
        "    show_layer_activations=False\n",
        ")"
      ],
      "metadata": {
        "id": "V1Vww4NExsR7"
      },
      "execution_count": null,
      "outputs": []
    },
    {
      "cell_type": "code",
      "source": [
        "def train(model, network_input, network_output):\n",
        "    \"\"\" train the neural network \"\"\"\n",
        "    filepath = \"weights-improvement-{epoch:02d}-{loss:.4f}-bigger.hdf5\"\n",
        "    checkpoint = ModelCheckpoint(\n",
        "        filepath,\n",
        "        monitor='loss',\n",
        "        verbose=0,\n",
        "        save_best_only=True,\n",
        "        mode='min'\n",
        "    )\n",
        "    callbacks_list = [checkpoint]\n",
        "\n",
        "    model.fit(network_input, network_output, epochs=5, batch_size=128, callbacks=callbacks_list)\n",
        "\n",
        "    return model"
      ],
      "metadata": {
        "id": "BTYJ6JhFxtUM"
      },
      "execution_count": null,
      "outputs": []
    },
    {
      "cell_type": "code",
      "source": [
        "def generate_notes(model, network_input, pitchnames, n_vocab):\n",
        "    \"\"\" Generate notes from the neural network based on a sequence of notes \"\"\"\n",
        "    # pick a random sequence from the input as a starting point for the prediction\n",
        "    # Selects a random row from the network_input\n",
        "    start = numpy.random.randint(0, len(network_input)-1)\n",
        "\n",
        "    int_to_note = dict((number, note) for number, note in enumerate(pitchnames))\n",
        "\n",
        "    # Random row from network_input\n",
        "    pattern = network_input[start]\n",
        "    prediction_output = []\n",
        "\n",
        "    # generate 500 notes\n",
        "    for note_index in range(500):\n",
        "        print(note_index)\n",
        "        # Reshapes pattern into a vector\n",
        "        prediction_input = numpy.reshape(pattern, (1, len(pattern), 1))\n",
        "        # Standarizes pattern\n",
        "        prediction_input = prediction_input / float(n_vocab)\n",
        "\n",
        "        # Predicts the next note\n",
        "        prediction = model.predict(prediction_input, verbose=0)\n",
        "\n",
        "        # Outputs a OneHot encoded vector, so this picks the columns\n",
        "        # with the highest probability\n",
        "        index = numpy.argmax(prediction)\n",
        "        # Maps the note to its respective index\n",
        "        result = int_to_note[index]\n",
        "        # Appends the note to the prediction_output\n",
        "        prediction_output.append(result)\n",
        "\n",
        "        # Adds the predicted note to the pattern\n",
        "        pattern = numpy.append(pattern,index)\n",
        "        # Slices the array so that it contains the predicted note\n",
        "        # eliminating the first from the array, so the model can\n",
        "        # have a sequence\n",
        "        pattern = pattern[1:len(pattern)]\n",
        "\n",
        "    return prediction_output"
      ],
      "metadata": {
        "id": "KVJA842NyPIu"
      },
      "execution_count": null,
      "outputs": []
    },
    {
      "cell_type": "code",
      "source": [
        "from music21 import instrument, note, stream\n",
        "\n",
        "def create_midi(prediction_output):\n",
        "    \"\"\" convert the output from the prediction to notes and create a midi file\n",
        "        from the notes \"\"\"\n",
        "    offset = 0\n",
        "    output_notes = []\n",
        "\n",
        "    # create note and chord objects based on the values generated by the model\n",
        "    for pattern in prediction_output:\n",
        "        # pattern is a chord\n",
        "        if ('.' in pattern) or pattern.isdigit():\n",
        "            notes_in_chord = pattern.split('.')\n",
        "            notes = []\n",
        "            for current_note in notes_in_chord:\n",
        "                new_note = note.Note(int(current_note))\n",
        "                new_note.storedInstrument = instrument.Piano()\n",
        "                notes.append(new_note)\n",
        "            new_chord = chord.Chord(notes)\n",
        "            new_chord.offset = offset\n",
        "            output_notes.append(new_chord)\n",
        "        # pattern is a note\n",
        "        else:\n",
        "            new_note = note.Note(pattern)\n",
        "            new_note.offset = offset\n",
        "            new_note.storedInstrument = instrument.Piano()\n",
        "            output_notes.append(new_note)\n",
        "\n",
        "        # increase offset each iteration so that notes do not stack\n",
        "        offset += 0.5\n",
        "\n",
        "    midi_stream = stream.Stream(output_notes)\n",
        "\n",
        "    midi_stream.write('midi', fp='test_output.mid')"
      ],
      "metadata": {
        "id": "v8AfzuSZzwVQ"
      },
      "execution_count": null,
      "outputs": []
    }
  ]
}